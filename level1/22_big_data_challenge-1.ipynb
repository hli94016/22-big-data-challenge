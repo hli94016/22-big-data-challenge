{
  "nbformat": 4,
  "nbformat_minor": 0,
  "metadata": {
    "colab": {
      "name": "22-big-data-challenge-1.ipynb",
      "provenance": [],
      "collapsed_sections": []
    },
    "kernelspec": {
      "name": "python3",
      "display_name": "Python 3"
    },
    "language_info": {
      "name": "python"
    }
  },
  "cells": [
    {
      "cell_type": "code",
      "execution_count": 1,
      "metadata": {
        "colab": {
          "base_uri": "https://localhost:8080/"
        },
        "id": "XtzeSdx0vHOY",
        "outputId": "a7d4bee4-b3fb-48b8-e51a-646a8cb6e8fd"
      },
      "outputs": [
        {
          "output_type": "stream",
          "name": "stdout",
          "text": [
            "\r0% [Working]\r            \rHit:1 https://cloud.r-project.org/bin/linux/ubuntu bionic-cran40/ InRelease\n",
            "\r0% [Connecting to archive.ubuntu.com (185.125.190.39)] [Waiting for headers] [W\r0% [1 InRelease gpgv 3,626 B] [Waiting for headers] [Waiting for headers] [Wait\r                                                                               \rHit:2 http://security.ubuntu.com/ubuntu bionic-security InRelease\n",
            "\r0% [1 InRelease gpgv 3,626 B] [Waiting for headers] [Waiting for headers] [Wait\r                                                                               \rIgn:3 https://developer.download.nvidia.com/compute/cuda/repos/ubuntu1804/x86_64  InRelease\n",
            "\r                                                                               \r0% [1 InRelease gpgv 3,626 B] [Waiting for headers] [Waiting for headers]\r                                                                         \rHit:4 http://ppa.launchpad.net/c2d4u.team/c2d4u4.0+/ubuntu bionic InRelease\n",
            "\r0% [1 InRelease gpgv 3,626 B] [Waiting for headers] [Connecting to ppa.launchpa\r                                                                               \rHit:5 http://archive.ubuntu.com/ubuntu bionic InRelease\n",
            "\r0% [1 InRelease gpgv 3,626 B] [Waiting for headers] [Connecting to ppa.launchpa\r                                                                               \rIgn:6 https://developer.download.nvidia.com/compute/machine-learning/repos/ubuntu1804/x86_64  InRelease\n",
            "Hit:7 https://developer.download.nvidia.com/compute/cuda/repos/ubuntu1804/x86_64  Release\n",
            "Hit:8 https://developer.download.nvidia.com/compute/machine-learning/repos/ubuntu1804/x86_64  Release\n",
            "Hit:9 http://archive.ubuntu.com/ubuntu bionic-updates InRelease\n",
            "Hit:10 http://ppa.launchpad.net/cran/libgit2/ubuntu bionic InRelease\n",
            "Hit:11 http://archive.ubuntu.com/ubuntu bionic-backports InRelease\n",
            "Hit:12 http://ppa.launchpad.net/deadsnakes/ppa/ubuntu bionic InRelease\n",
            "Hit:13 http://ppa.launchpad.net/graphics-drivers/ppa/ubuntu bionic InRelease\n",
            "Reading package lists... Done\n"
          ]
        }
      ],
      "source": [
        "import os\n",
        "# Find the latest version of spark 3.0  from http://www.apache.org/dist/spark/ and enter as the spark version\n",
        "# For example:\n",
        "spark_version = 'spark-3.2.1'\n",
        "os.environ['SPARK_VERSION']=spark_version\n",
        "\n",
        "# Install Spark and Java\n",
        "!apt-get update\n",
        "!apt-get install openjdk-8-jdk-headless -qq > /dev/null\n",
        "!rm -rf $SPARK_VERSION-bin-hadoop2.7.tgz\n",
        "!wget -q http://www.apache.org/dist/spark/$SPARK_VERSION/$SPARK_VERSION-bin-hadoop2.7.tgz\n",
        "!tar xf $SPARK_VERSION-bin-hadoop2.7.tgz\n",
        "!pip install -q findspark\n",
        "\n",
        "# Set Environment Variables\n",
        "os.environ[\"JAVA_HOME\"] = \"/usr/lib/jvm/java-8-openjdk-amd64\"\n",
        "os.environ[\"SPARK_HOME\"] = f\"/content/{spark_version}-bin-hadoop2.7\"\n",
        "\n",
        "# Start a SparkSession\n",
        "import findspark\n",
        "findspark.init()"
      ]
    },
    {
      "cell_type": "code",
      "source": [
        "# !wget https://jdbc.postgresql.org/download/postgresql-42.2.9.jar\n",
        "\n",
        "# Use MySQL instead of postgre\n",
        "!rm -f mysql-connector-java-8.0.20.tar.gz\n",
        "!wget https://downloads.mysql.com/archives/get/p/3/file/mysql-connector-java-8.0.20.tar.gz\n",
        "!tar -zxf mysql-connector-java-8.0.20.tar.gz mysql-connector-java-8.0.20/mysql-connector-java-8.0.20.jar\n",
        "!mv mysql-connector-java-8.0.20/mysql-connector-java-8.0.20.jar .\n",
        "!rmdir mysql-connector-java-8.0.20"
      ],
      "metadata": {
        "colab": {
          "base_uri": "https://localhost:8080/"
        },
        "id": "fOS_4YHBvOY3",
        "outputId": "25cb93cd-0359-4bca-99a2-c90301917ba9"
      },
      "execution_count": 2,
      "outputs": [
        {
          "output_type": "stream",
          "name": "stdout",
          "text": [
            "--2022-04-20 00:34:49--  https://downloads.mysql.com/archives/get/p/3/file/mysql-connector-java-8.0.20.tar.gz\n",
            "Resolving downloads.mysql.com (downloads.mysql.com)... 137.254.60.14\n",
            "Connecting to downloads.mysql.com (downloads.mysql.com)|137.254.60.14|:443... connected.\n",
            "HTTP request sent, awaiting response... 302 Found\n",
            "Location: https://cdn.mysql.com/archives/mysql-connector-java-8.0/mysql-connector-java-8.0.20.tar.gz [following]\n",
            "--2022-04-20 00:34:50--  https://cdn.mysql.com/archives/mysql-connector-java-8.0/mysql-connector-java-8.0.20.tar.gz\n",
            "Resolving cdn.mysql.com (cdn.mysql.com)... 23.49.97.31\n",
            "Connecting to cdn.mysql.com (cdn.mysql.com)|23.49.97.31|:443... connected.\n",
            "HTTP request sent, awaiting response... 200 OK\n",
            "Length: 3930793 (3.7M) [application/x-tar-gz]\n",
            "Saving to: ‘mysql-connector-java-8.0.20.tar.gz’\n",
            "\n",
            "mysql-connector-jav 100%[===================>]   3.75M  --.-KB/s    in 0.1s    \n",
            "\n",
            "2022-04-20 00:34:50 (36.5 MB/s) - ‘mysql-connector-java-8.0.20.tar.gz’ saved [3930793/3930793]\n",
            "\n"
          ]
        }
      ]
    },
    {
      "cell_type": "code",
      "source": [
        "from pyspark.sql import SparkSession\n",
        "\n",
        "spark = SparkSession.builder.appName(\"CloudETL\").config(\"spark.driver.extraClassPath\",\"mysql-connector-java-8.0.20.jar\").getOrCreate()"
      ],
      "metadata": {
        "id": "xAny2DAEvRFB"
      },
      "execution_count": 3,
      "outputs": []
    },
    {
      "cell_type": "code",
      "source": [
        "from pyspark import SparkFiles\n",
        "\n",
        "# Load in sample_us.tsv from S3 into a DataFrame\n",
        "# url = \"https://s3.amazonaws.com/amazon-reviews-pds/tsv/sample_us.tsv\"\n",
        "url = \"https://s3.amazonaws.com/amazon-reviews-pds/tsv/amazon_reviews_us_Major_Appliances_v1_00.tsv.gz\"\n",
        "file_name = os.path.basename(url)\n",
        "spark.sparkContext.addFile(url)\n",
        "\n",
        "df = spark.read.option('header', 'true').csv(SparkFiles.get(file_name), inferSchema=True, sep='\\t', timestampFormat=\"yyyy-mm-dd\")\n",
        "# Drop duplicated rows if there is any\n",
        "df = df.drop_duplicates()\n",
        "\n",
        "# Drop rows with null values if there is any\n",
        "df = df.dropna()\n",
        "\n",
        "df.show(10)"
      ],
      "metadata": {
        "colab": {
          "base_uri": "https://localhost:8080/"
        },
        "id": "3yaXR1eFvTjG",
        "outputId": "35ea1259-a1b9-4b7a-a1fb-cbcd17ac7af4"
      },
      "execution_count": 4,
      "outputs": [
        {
          "output_type": "stream",
          "name": "stdout",
          "text": [
            "+-----------+-----------+--------------+----------+--------------+--------------------+----------------+-----------+-------------+-----------+----+-----------------+--------------------+--------------------+-------------------+\n",
            "|marketplace|customer_id|     review_id|product_id|product_parent|       product_title|product_category|star_rating|helpful_votes|total_votes|vine|verified_purchase|     review_headline|         review_body|        review_date|\n",
            "+-----------+-----------+--------------+----------+--------------+--------------------+----------------+-----------+-------------+-----------+----+-----------------+--------------------+--------------------+-------------------+\n",
            "|         US|   30829594| R2ASWDH36LJUT|B00SNKU7VQ|     197365398|Whirlpool W102953...|Major Appliances|          5|            0|          0|   N|                Y|          Five Stars|Works & fits grea...|2015-01-31 00:08:00|\n",
            "|         US|   25152726|R1V00ZIV9BGFDP|B0050KJOQ6|     389591298|1 X 3949247 WASHI...|Major Appliances|          4|            0|          0|   N|                Y|          Four Stars|         It was good|2015-01-31 00:08:00|\n",
            "|         US|   52162254| RDXZRZUAOZ6XV|B002ZV0OJO|     892941206|NewAir AW-121E 12...|Major Appliances|          1|            6|          8|   N|                Y|Beware!  Unit Run...|This wine cooler ...|2015-01-21 00:08:00|\n",
            "|         US|   43142717|R1NXN5ZI0P91LV|B000N4NO4C|     624858020|EdgeStar Portable...|Major Appliances|          5|            0|          0|   N|                Y|          Five Stars|I LOVE THIS ICE M...|2015-01-21 00:08:00|\n",
            "|         US|    1885002|R22HBXHYK0PXW3|B00NUN7UAM|     209612522|BESTIM NEW DURABL...|Major Appliances|          1|            0|          0|   N|                Y|          Too sticky|Too sticky /water...|2015-01-21 00:08:00|\n",
            "|         US|   50023478|R3FUGFQE60R51C|B00KJ07SEM|     313983847|GE MWF SmartWater...|Major Appliances|          5|            1|          1|   N|                Y|   Great alternative|Great alternative...|2015-01-18 00:08:00|\n",
            "|         US|   52976191|R1B4UA4EJHM88W|B008B7W40S|     965640763|Broan Model BPS1F...|Major Appliances|          5|            0|          0|   N|                Y|Very good, proper...|They are what the...|2015-01-17 00:08:00|\n",
            "|         US|   12859893|R2BACSPMJSQPMZ|B0057FQME6|     720052562|Ecoaqua Replaceme...|Major Appliances|          5|            0|          0|   N|                Y|Quality filter fo...|I have used sever...|2015-01-15 00:08:00|\n",
            "|         US|   51674458| RPKDE80QC2B8P|B00CKFI8HU|     426669981|SPT IM-600US Stai...|Major Appliances|          4|            8|         10|   N|                Y|Excellent value f...|I bought this ite...|2015-01-10 00:08:00|\n",
            "|         US|   22794013| RZ373FF0MXG23|B00AMFLZLG|      12811331|Koldfront Bottle ...|Major Appliances|          4|            0|          0|   N|                Y|          Four Stars|so far so good. I...|2015-01-10 00:08:00|\n",
            "+-----------+-----------+--------------+----------+--------------+--------------------+----------------+-----------+-------------+-----------+----+-----------------+--------------------+--------------------+-------------------+\n",
            "only showing top 10 rows\n",
            "\n"
          ]
        }
      ]
    },
    {
      "cell_type": "code",
      "source": [
        "df.count()"
      ],
      "metadata": {
        "colab": {
          "base_uri": "https://localhost:8080/"
        },
        "id": "XtB9Pb-FNR9A",
        "outputId": "62b4e4de-960d-4a2a-dbb1-1476e0ffbf72"
      },
      "execution_count": 5,
      "outputs": [
        {
          "output_type": "execute_result",
          "data": {
            "text/plain": [
              "96888"
            ]
          },
          "metadata": {},
          "execution_count": 5
        }
      ]
    },
    {
      "cell_type": "code",
      "source": [
        "# Create dataframes for tables: review_id_table, products, vine_table\n",
        "# review_id_table\n",
        "review_id_df = df[['review_id', 'customer_id', 'product_id', 'product_parent', 'review_date']]\n",
        "review_id_df = review_id_df.drop_duplicates()\n",
        "review_id_df = review_id_df.dropna()\n",
        "\n",
        "# products table\n",
        "products_df = df[['product_id', 'product_title']]\n",
        "products_df = products_df.drop_duplicates()\n",
        "products_df = products_df.dropna()\n",
        "\n",
        "# customers table\n",
        "customers_df = df.groupBy('customer_id').count()\n",
        "customers_df = customers_df.withColumnRenamed(\"count\", \"customer_count\")\n",
        "customers_df = customers_df.drop_duplicates()\n",
        "customers_df = customers_df.dropna()\n",
        "\n",
        "\n",
        "# vine_table\n",
        "vine_df = df[['review_id', 'star_rating', 'helpful_votes', 'total_votes', 'vine']]\n",
        "vine_df = vine_df.drop_duplicates()\n",
        "vine_df = vine_df.dropna()"
      ],
      "metadata": {
        "id": "IgD7H5bxJI_F"
      },
      "execution_count": 6,
      "outputs": []
    },
    {
      "cell_type": "code",
      "source": [
        "# Configuration for RDS instance\n",
        "mode=\"append\"\n",
        "jdbc_url = \"jdbc:mysql://rds-big-data.cszz1vg6fdhl.us-west-1.rds.amazonaws.com:3306/big_data?useUnicode=true&characterEncoding=UTF-8&rewriteBatchedStatements=true\"\n",
        "config = {\"user\":\"admin\",\n",
        "          \"password\": \"password\",\n",
        "          \"driver\":\"com.mysql.jdbc.Driver\"}"
      ],
      "metadata": {
        "id": "Jv27otT_T116"
      },
      "execution_count": 7,
      "outputs": []
    },
    {
      "cell_type": "code",
      "source": [
        "# Write vine DataFrame to vine table\n",
        "vine_df.write.jdbc(url=jdbc_url, table='vine_table', mode=mode, properties=config)"
      ],
      "metadata": {
        "id": "6ffaMfzvLk69"
      },
      "execution_count": 8,
      "outputs": []
    },
    {
      "cell_type": "code",
      "source": [
        "# Write vine DataFrame to vine table\n",
        "review_id_df.write.jdbc(url=jdbc_url, table='review_id_table', mode=mode, properties=config)"
      ],
      "metadata": {
        "id": "A_EGJ-ezUtpv"
      },
      "execution_count": 9,
      "outputs": []
    },
    {
      "cell_type": "code",
      "source": [
        "# Write products DataFrame to products table\n",
        "products_df.write.jdbc(url=jdbc_url, table='products', mode=mode, properties=config)"
      ],
      "metadata": {
        "id": "jQDDUjcyUYre"
      },
      "execution_count": 10,
      "outputs": []
    },
    {
      "cell_type": "code",
      "source": [
        "# Write customers DataFrame to customers table\n",
        "customers_df.write.jdbc(url=jdbc_url, table='customers', mode=mode, properties=config)"
      ],
      "metadata": {
        "id": "NuPrKtJaUk4y"
      },
      "execution_count": 11,
      "outputs": []
    }
  ]
}